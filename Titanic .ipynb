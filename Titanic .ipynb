{
 "cells": [
  {
   "cell_type": "markdown",
   "metadata": {},
   "source": [
    "# Analysis of survival of passenegers on the Titanic Ship"
   ]
  },
  {
   "cell_type": "markdown",
   "metadata": {},
   "source": [
    "# Data Info \n",
    "\n",
    "Source of Data - https://www.kaggle.com/c/titanic/data"
   ]
  },
  {
   "cell_type": "markdown",
   "metadata": {},
   "source": [
    "# Analysis"
   ]
  },
  {
   "cell_type": "code",
   "execution_count": 1,
   "metadata": {
    "collapsed": true
   },
   "outputs": [],
   "source": [
    "# importing of packages \n",
    "\n",
    "import pandas as pd\n",
    "import matplotlib.pyplot as plt\n",
    "import statistics\n",
    "from tabulate import tabulate"
   ]
  },
  {
   "cell_type": "code",
   "execution_count": 2,
   "metadata": {},
   "outputs": [
    {
     "data": {
      "text/html": [
       "<div>\n",
       "<style>\n",
       "    .dataframe thead tr:only-child th {\n",
       "        text-align: right;\n",
       "    }\n",
       "\n",
       "    .dataframe thead th {\n",
       "        text-align: left;\n",
       "    }\n",
       "\n",
       "    .dataframe tbody tr th {\n",
       "        vertical-align: top;\n",
       "    }\n",
       "</style>\n",
       "<table border=\"1\" class=\"dataframe\">\n",
       "  <thead>\n",
       "    <tr style=\"text-align: right;\">\n",
       "      <th></th>\n",
       "      <th>PassengerId</th>\n",
       "      <th>Survived</th>\n",
       "      <th>Pclass</th>\n",
       "      <th>Name</th>\n",
       "      <th>Sex</th>\n",
       "      <th>Age</th>\n",
       "      <th>SibSp</th>\n",
       "      <th>Parch</th>\n",
       "      <th>Ticket</th>\n",
       "      <th>Fare</th>\n",
       "      <th>Cabin</th>\n",
       "      <th>Embarked</th>\n",
       "    </tr>\n",
       "  </thead>\n",
       "  <tbody>\n",
       "    <tr>\n",
       "      <th>0</th>\n",
       "      <td>1</td>\n",
       "      <td>0</td>\n",
       "      <td>3</td>\n",
       "      <td>Braund, Mr. Owen Harris</td>\n",
       "      <td>male</td>\n",
       "      <td>22.0</td>\n",
       "      <td>1</td>\n",
       "      <td>0</td>\n",
       "      <td>A/5 21171</td>\n",
       "      <td>7.2500</td>\n",
       "      <td>NaN</td>\n",
       "      <td>S</td>\n",
       "    </tr>\n",
       "    <tr>\n",
       "      <th>1</th>\n",
       "      <td>2</td>\n",
       "      <td>1</td>\n",
       "      <td>1</td>\n",
       "      <td>Cumings, Mrs. John Bradley (Florence Briggs Th...</td>\n",
       "      <td>female</td>\n",
       "      <td>38.0</td>\n",
       "      <td>1</td>\n",
       "      <td>0</td>\n",
       "      <td>PC 17599</td>\n",
       "      <td>71.2833</td>\n",
       "      <td>C85</td>\n",
       "      <td>C</td>\n",
       "    </tr>\n",
       "    <tr>\n",
       "      <th>2</th>\n",
       "      <td>3</td>\n",
       "      <td>1</td>\n",
       "      <td>3</td>\n",
       "      <td>Heikkinen, Miss. Laina</td>\n",
       "      <td>female</td>\n",
       "      <td>26.0</td>\n",
       "      <td>0</td>\n",
       "      <td>0</td>\n",
       "      <td>STON/O2. 3101282</td>\n",
       "      <td>7.9250</td>\n",
       "      <td>NaN</td>\n",
       "      <td>S</td>\n",
       "    </tr>\n",
       "    <tr>\n",
       "      <th>3</th>\n",
       "      <td>4</td>\n",
       "      <td>1</td>\n",
       "      <td>1</td>\n",
       "      <td>Futrelle, Mrs. Jacques Heath (Lily May Peel)</td>\n",
       "      <td>female</td>\n",
       "      <td>35.0</td>\n",
       "      <td>1</td>\n",
       "      <td>0</td>\n",
       "      <td>113803</td>\n",
       "      <td>53.1000</td>\n",
       "      <td>C123</td>\n",
       "      <td>S</td>\n",
       "    </tr>\n",
       "    <tr>\n",
       "      <th>4</th>\n",
       "      <td>5</td>\n",
       "      <td>0</td>\n",
       "      <td>3</td>\n",
       "      <td>Allen, Mr. William Henry</td>\n",
       "      <td>male</td>\n",
       "      <td>35.0</td>\n",
       "      <td>0</td>\n",
       "      <td>0</td>\n",
       "      <td>373450</td>\n",
       "      <td>8.0500</td>\n",
       "      <td>NaN</td>\n",
       "      <td>S</td>\n",
       "    </tr>\n",
       "  </tbody>\n",
       "</table>\n",
       "</div>"
      ],
      "text/plain": [
       "   PassengerId  Survived  Pclass  \\\n",
       "0            1         0       3   \n",
       "1            2         1       1   \n",
       "2            3         1       3   \n",
       "3            4         1       1   \n",
       "4            5         0       3   \n",
       "\n",
       "                                                Name     Sex   Age  SibSp  \\\n",
       "0                            Braund, Mr. Owen Harris    male  22.0      1   \n",
       "1  Cumings, Mrs. John Bradley (Florence Briggs Th...  female  38.0      1   \n",
       "2                             Heikkinen, Miss. Laina  female  26.0      0   \n",
       "3       Futrelle, Mrs. Jacques Heath (Lily May Peel)  female  35.0      1   \n",
       "4                           Allen, Mr. William Henry    male  35.0      0   \n",
       "\n",
       "   Parch            Ticket     Fare Cabin Embarked  \n",
       "0      0         A/5 21171   7.2500   NaN        S  \n",
       "1      0          PC 17599  71.2833   C85        C  \n",
       "2      0  STON/O2. 3101282   7.9250   NaN        S  \n",
       "3      0            113803  53.1000  C123        S  \n",
       "4      0            373450   8.0500   NaN        S  "
      ]
     },
     "execution_count": 2,
     "metadata": {},
     "output_type": "execute_result"
    }
   ],
   "source": [
    "# importing of data\n",
    "\n",
    "a=pd.read_csv(\"C:\\\\Users\\\\dell\\\\Desktop\\\\titanic_data.csv\")\n",
    "a.head()"
   ]
  },
  {
   "cell_type": "code",
   "execution_count": 3,
   "metadata": {},
   "outputs": [
    {
     "name": "stdout",
     "output_type": "stream",
     "text": [
      "<class 'pandas.core.frame.DataFrame'>\n",
      "RangeIndex: 891 entries, 0 to 890\n",
      "Data columns (total 12 columns):\n",
      "PassengerId    891 non-null int64\n",
      "Survived       891 non-null int64\n",
      "Pclass         891 non-null int64\n",
      "Name           891 non-null object\n",
      "Sex            891 non-null object\n",
      "Age            714 non-null float64\n",
      "SibSp          891 non-null int64\n",
      "Parch          891 non-null int64\n",
      "Ticket         891 non-null object\n",
      "Fare           891 non-null float64\n",
      "Cabin          204 non-null object\n",
      "Embarked       889 non-null object\n",
      "dtypes: float64(2), int64(5), object(5)\n",
      "memory usage: 66.2+ KB\n"
     ]
    }
   ],
   "source": [
    "a.info()"
   ]
  },
  {
   "cell_type": "code",
   "execution_count": 4,
   "metadata": {
    "collapsed": true
   },
   "outputs": [],
   "source": [
    "# storing data in specific dataframes for efficiently accessing the data\n",
    "\n",
    "sex=a[\"Sex\"]\n",
    "age=a[\"Age\"]\n",
    "fare=a[\"Fare\"]\n",
    "survived=a[\"Survived\"]"
   ]
  },
  {
   "cell_type": "markdown",
   "metadata": {},
   "source": [
    "### Survival of passengers based on sex"
   ]
  },
  {
   "cell_type": "code",
   "execution_count": 5,
   "metadata": {},
   "outputs": [
    {
     "name": "stdout",
     "output_type": "stream",
     "text": [
      "0    549\n",
      "1    342\n",
      "Name: Survived, dtype: int64\n",
      " \n",
      "male      577\n",
      "female    314\n",
      "Name: Sex, dtype: int64\n",
      " \n",
      "female    233\n",
      "male      109\n",
      "Name: Sex, dtype: int64\n",
      " \n",
      " \n",
      "╒══════════════════════════════════════════╤═════════╕\n",
      "│ Total number of Passengers               │ 891     │\n",
      "├──────────────────────────────────────────┼─────────┤\n",
      "│ Total number of people who survived      │ 549     │\n",
      "├──────────────────────────────────────────┼─────────┤\n",
      "│ Total number of Male Passengers          │ 577     │\n",
      "├──────────────────────────────────────────┼─────────┤\n",
      "│ Total number of people who survived      │ 109     │\n",
      "├──────────────────────────────────────────┼─────────┤\n",
      "│ Total number of Female Passengers        │ 314     │\n",
      "├──────────────────────────────────────────┼─────────┤\n",
      "│ Total number of Female Survivors         │ 233     │\n",
      "├──────────────────────────────────────────┼─────────┤\n",
      "│ Percentage of Passengers Survived        │ 61.61 % │\n",
      "├──────────────────────────────────────────┼─────────┤\n",
      "│ Percentage of Male Passengers Survived   │ 18.89 % │\n",
      "├──────────────────────────────────────────┼─────────┤\n",
      "│ Percentage of Female Passengers Survived │ 74.2 %  │\n",
      "╘══════════════════════════════════════════╧═════════╛\n"
     ]
    }
   ],
   "source": [
    "s=a.loc[a[\"Survived\"]==1]\n",
    "print(survived.value_counts())\n",
    "print(\" \")\n",
    "print(sex.value_counts())\n",
    "print(\" \")\n",
    "print(s[\"Sex\"].value_counts())\n",
    "print(\" \")\n",
    "print(\" \")\n",
    "print(tabulate([[\"Total number of Passengers   \", 891],[\"Total number of people who survived   \",549],[\"Total number of Male Passengers   \",577],[\"Total number of people who survived   \",109],[\"Total number of Female Passengers\",314],[\"Total number of Female Survivors   \",233],[\"Percentage of Passengers Survived\",\"61.61 %\"],[\"Percentage of Male Passengers Survived\",\"18.89 %\"],[\"Percentage of Female Passengers Survived\",\"74.2 %\"]],tablefmt=\"fancy_grid\"))"
   ]
  },
  {
   "cell_type": "code",
   "execution_count": 6,
   "metadata": {},
   "outputs": [
    {
     "data": {
      "image/png": "[encoded data removed]",
      "text/plain": [
       "<matplotlib.figure.Figure at 0x76957b0>"
      ]
     },
     "metadata": {},
     "output_type": "display_data"
    }
   ],
   "source": [
    "sur=[109, 233]\n",
    "tot=[577, 314]\n",
    "x=[0.75,1.75]\n",
    "y=[1,2]\n",
    "ax=plt.subplot(111)\n",
    "r1=ax.bar(x,tot, width=0.25, color=\"yellow\")\n",
    "r2=ax.bar(y,sur, width=0.25, color=\"blue\")\n",
    "plt.xlabel(\"Survival of People\")\n",
    "plt.ylabel(\"No. of People\")\n",
    "plt.xticks(range(1,3),[\"Male\",\"Female\"])\n",
    "plt.legend((r1,r2),(\"Total\",\"Survived\"))\n",
    "plt.show()"
   ]
  },
  {
   "cell_type": "markdown",
   "metadata": {},
   "source": [
    "### Survival of Passengers based on Age"
   ]
  },
  {
   "cell_type": "code",
   "execution_count": 48,
   "metadata": {},
   "outputs": [
    {
     "name": "stdout",
     "output_type": "stream",
     "text": [
      "Before Diseaster\n",
      "╒══════════════════════════════════════════╤═════╕\n",
      "│ No. of Passenegers between age 0 and 10  │  64 │\n",
      "├──────────────────────────────────────────┼─────┤\n",
      "│ No. of Passenegers between age 10 and 20 │ 115 │\n",
      "├──────────────────────────────────────────┼─────┤\n",
      "│ No. of Passenegers between age 20 and 30 │ 230 │\n",
      "├──────────────────────────────────────────┼─────┤\n",
      "│ No. of Passenegers between age 30 and 40 │ 155 │\n",
      "├──────────────────────────────────────────┼─────┤\n",
      "│ No. of Passenegers between age 40 and 50 │  86 │\n",
      "├──────────────────────────────────────────┼─────┤\n",
      "│ No. of Passenegers between age 50 and 60 │  42 │\n",
      "├──────────────────────────────────────────┼─────┤\n",
      "│ No. of Passenegers between age 60 and 70 │  17 │\n",
      "├──────────────────────────────────────────┼─────┤\n",
      "│ No. of Passenegers between age 70 and 80 │   1 │\n",
      "╘══════════════════════════════════════════╧═════╛\n",
      "\n",
      "After Diseaster\n",
      "╒══════════════════════════════════════════╤════╕\n",
      "│ No. of Passenegers between age 0 and 10  │ 38 │\n",
      "├──────────────────────────────────────────┼────┤\n",
      "│ No. of Passenegers between age 10 and 20 │ 44 │\n",
      "├──────────────────────────────────────────┼────┤\n",
      "│ No. of Passenegers between age 20 and 30 │ 84 │\n",
      "├──────────────────────────────────────────┼────┤\n",
      "│ No. of Passenegers between age 30 and 40 │ 69 │\n",
      "├──────────────────────────────────────────┼────┤\n",
      "│ No. of Passenegers between age 40 and 50 │ 33 │\n",
      "├──────────────────────────────────────────┼────┤\n",
      "│ No. of Passenegers between age 50 and 60 │ 17 │\n",
      "├──────────────────────────────────────────┼────┤\n",
      "│ No. of Passenegers between age 60 and 70 │  4 │\n",
      "├──────────────────────────────────────────┼────┤\n",
      "│ No. of Passenegers between age 70 and 80 │  1 │\n",
      "╘══════════════════════════════════════════╧════╛\n"
     ]
    }
   ],
   "source": [
    "ss=[]\n",
    "for i in s[\"Age\"].dropna():\n",
    "    ss.append(i)\n",
    "    \n",
    "# before diseaster\n",
    "\n",
    "count1=0\n",
    "count2=0\n",
    "count3=0\n",
    "count4=0\n",
    "count5=0\n",
    "count6=0\n",
    "count7=0\n",
    "count8=0\n",
    "for i in a[\"Age\"].dropna():\n",
    "    if i<=10:\n",
    "        count1=count1+1\n",
    "    elif i>10 and i<=20:\n",
    "        count2=count2+1\n",
    "    elif i>20 and i<=30:\n",
    "        count3=count3+1\n",
    "    elif i>30 and i<=40:\n",
    "        count4=count4+1\n",
    "    elif i>40 and i<=50:\n",
    "        count5=count5+1\n",
    "    elif i>50 and i<=60:\n",
    "        count6=count6+1\n",
    "    elif i>60 and i<=70:\n",
    "        count7=count7+1\n",
    "    elif i>70 and i<=80:\n",
    "        count8=count8=1\n",
    "print(\"Before Diseaster\")\n",
    "print(tabulate([[\"No. of Passenegers between age 0 and 10\",count1],[\"No. of Passenegers between age 10 and 20\",count2],[\"No. of Passenegers between age 20 and 30\",count3],[\"No. of Passenegers between age 30 and 40\",count4],[\"No. of Passenegers between age 40 and 50\",count5],[\"No. of Passenegers between age 50 and 60\",count6],[\"No. of Passenegers between age 60 and 70\",count7],[\"No. of Passenegers between age 70 and 80\",count8]],tablefmt=\"fancy_grid\"))\n",
    "print(\"\")\n",
    "before=[count1,count2,count3,count4,count5,count6,count7,count8]\n",
    "\n",
    "# after diseaster\n",
    "\n",
    "count1=0\n",
    "count2=0\n",
    "count3=0\n",
    "count4=0\n",
    "count5=0\n",
    "count6=0\n",
    "count7=0\n",
    "count8=0\n",
    "for i in ss:\n",
    "    if i<=10:\n",
    "        count1=count1+1\n",
    "    elif i>10 and i<=20:\n",
    "        count2=count2+1\n",
    "    elif i>20 and i<=30:\n",
    "        count3=count3+1\n",
    "    elif i>30 and i<=40:\n",
    "        count4=count4+1\n",
    "    elif i>40 and i<=50:\n",
    "        count5=count5+1\n",
    "    elif i>50 and i<=60:\n",
    "        count6=count6+1\n",
    "    elif i>60 and i<=70:\n",
    "        count7=count7+1\n",
    "    elif i>70 and i<=80:\n",
    "        count8=count8=1\n",
    "after=[count1,count2,count3,count4,count5,count6,count7,count8]\n",
    "print(\"After Diseaster\")\n",
    "print(tabulate([[\"No. of Passenegers between age 0 and 10\",count1],[\"No. of Passenegers between age 10 and 20\",count2],[\"No. of Passenegers between age 20 and 30\",count3],[\"No. of Passenegers between age 30 and 40\",count4],[\"No. of Passenegers between age 40 and 50\",count5],[\"No. of Passenegers between age 50 and 60\",count6],[\"No. of Passenegers between age 60 and 70\",count7],[\"No. of Passenegers between age 70 and 80\",count8]],tablefmt=\"fancy_grid\"))"
   ]
  },
  {
   "cell_type": "code",
   "execution_count": 42,
   "metadata": {},
   "outputs": [
    {
     "data": {
      "image/png": "[encoded data removed]",
      "text/plain": [
       "<matplotlib.figure.Figure at 0x7f3a910>"
      ]
     },
     "metadata": {},
     "output_type": "display_data"
    }
   ],
   "source": [
    "x=[0.75,1.75,2.75,3.75,4.75,5.75,6.75,7.75]\n",
    "y=[1,2,3,4,5,6,7,8]\n",
    "ax=plt.subplot(111)\n",
    "r1=ax.bar(x,before, width=0.25, color=\"yellow\")\n",
    "r2=ax.bar(y,after, width=0.25, color=\"blue\")\n",
    "plt.xlabel(\"Age Groups\")\n",
    "plt.ylabel(\"No. of Passengers\")\n",
    "plt.xticks(range(1,9),[\"0-10\",\"10-20\",\"20-30\",\"30-40\",\"40-50\",\"50-60\",\"60-70\",\"70-80\"])\n",
    "plt.legend((r1,r2),(\"Total\",\"Survived\"))\n",
    "plt.show()"
   ]
  },
  {
   "cell_type": "code",
   "execution_count": 51,
   "metadata": {},
   "outputs": [
    {
     "name": "stdout",
     "output_type": "stream",
     "text": [
      "Percentage of Passengers survived\n",
      "\n",
      "╒═══════════════════════╤═════════╕\n",
      "│ Between age 0 and 10  │ 59.37 % │\n",
      "├───────────────────────┼─────────┤\n",
      "│ Between age 10 and 20 │ 38.26 % │\n",
      "├───────────────────────┼─────────┤\n",
      "│ Between age 20 and 30 │ 36.52 % │\n",
      "├───────────────────────┼─────────┤\n",
      "│ Between age 30 and 40 │ 44.51   │\n",
      "├───────────────────────┼─────────┤\n",
      "│ Between age 40 and 50 │ 38.37 % │\n",
      "├───────────────────────┼─────────┤\n",
      "│ Between age 50 and 60 │ 40.47 % │\n",
      "├───────────────────────┼─────────┤\n",
      "│ Between age 60 and 70 │ 23.52 % │\n",
      "├───────────────────────┼─────────┤\n",
      "│ Between age 70 and 80 │ 100%    │\n",
      "╘═══════════════════════╧═════════╛\n"
     ]
    }
   ],
   "source": [
    "print(\"Percentage of Passengers survived\")\n",
    "print(\"\")\n",
    "print(tabulate([[\"Between age 0 and 10\",\"59.37 %\"],[\"Between age 10 and 20\",\"38.26 %\"],[\"Between age 20 and 30\",\"36.52 %\"],[\"Between age 30 and 40\",\"44.51\"],[\"Between age 40 and 50\",\"38.37 %\"],[\"Between age 50 and 60\",\"40.47 %\"],[\"Between age 60 and 70\",\"23.52 %\"],[\"Between age 70 and 80\",\"100%\"]],tablefmt=\"fancy_grid\"))"
   ]
  },
  {
   "cell_type": "markdown",
   "metadata": {},
   "source": [
    "### Survival of Passengers based on Ticket Class"
   ]
  },
  {
   "cell_type": "code",
   "execution_count": 51,
   "metadata": {},
   "outputs": [
    {
     "name": "stdout",
     "output_type": "stream",
     "text": [
      "3    491\n",
      "1    216\n",
      "2    184\n",
      "Name: Pclass, dtype: int64\n",
      "1    136\n",
      "3    119\n",
      "2     87\n",
      "Name: Pclass, dtype: int64\n",
      "╒══════════════════════════════════════╤═════════╕\n",
      "│ Total Number of 1st Class Passengers │ 216     │\n",
      "├──────────────────────────────────────┼─────────┤\n",
      "│ Total Number of 1st Class Survivors  │ 136     │\n",
      "├──────────────────────────────────────┼─────────┤\n",
      "│ Total Number of 2nd Class Passengers │ 184     │\n",
      "├──────────────────────────────────────┼─────────┤\n",
      "│ Total Number of 2nd Class Survivors  │ 87      │\n",
      "├──────────────────────────────────────┼─────────┤\n",
      "│ Total Number of 3rd Class Passengers │ 491     │\n",
      "├──────────────────────────────────────┼─────────┤\n",
      "│ Total Number of 3rd Class Survivors  │ 119     │\n",
      "├──────────────────────────────────────┼─────────┤\n",
      "│ Percentage of 1st Class Survivors    │ 62.96 % │\n",
      "├──────────────────────────────────────┼─────────┤\n",
      "│ Percentage of 2nd Class Survivors    │ 47.28 % │\n",
      "├──────────────────────────────────────┼─────────┤\n",
      "│ Percentage of 3rd Class Survivors    │ 24.23 % │\n",
      "╘══════════════════════════════════════╧═════════╛\n"
     ]
    }
   ],
   "source": [
    "print(a[\"Pclass\"].value_counts())\n",
    "print(s[\"Pclass\"].value_counts())\n",
    "print(tabulate([[\"Total Number of 1st Class Passengers\",216],[\"Total Number of 1st Class Survivors\",136],[\"Total Number of 2nd Class Passengers\",184],[\"Total Number of 2nd Class Survivors\",87],[\"Total Number of 3rd Class Passengers\",491],[\"Total Number of 3rd Class Survivors\",119],[\"Percentage of 1st Class Survivors\",\"62.96 %\"],[\"Percentage of 2nd Class Survivors\",\"47.28 %\"],[\"Percentage of 3rd Class Survivors\",\"24.23 %\"]],tablefmt=\"fancy_grid\"))"
   ]
  },
  {
   "cell_type": "code",
   "execution_count": 72,
   "metadata": {},
   "outputs": [
    {
     "data": {
      "image/png": "[encoded data removed]",
      "text/plain": [
       "<matplotlib.figure.Figure at 0x81b9110>"
      ]
     },
     "metadata": {},
     "output_type": "display_data"
    }
   ],
   "source": [
    "s1=[136, 87, 119]\n",
    "s2=[216, 184, 491]\n",
    "x=[0.75,1.75,2.75]\n",
    "y=[1,2,3]\n",
    "ax=plt.subplot(111)\n",
    "r1=ax.bar(x,s2, width=0.25, color=\"yellow\")\n",
    "r2=ax.bar(y,s1, width=0.25, color=\"blue\")\n",
    "plt.xlabel(\"PClass\")\n",
    "plt.ylabel(\"No. of Passengers\")\n",
    "plt.xticks(range(1,4),[\"PClass 1\",\"PClass 2\",\"PClass 3\"])\n",
    "plt.legend((r1,r2),(\"Total\",\"Survived\"),loc=2)\n",
    "plt.show()"
   ]
  },
  {
   "cell_type": "markdown",
   "metadata": {
    "collapsed": true
   },
   "source": [
    "### Survival of Passengers based on no. of family relatives one comes with"
   ]
  },
  {
   "cell_type": "code",
   "execution_count": 13,
   "metadata": {},
   "outputs": [
    {
     "name": "stdout",
     "output_type": "stream",
     "text": [
      "0    608\n",
      "1    209\n",
      "2     28\n",
      "4     18\n",
      "3     16\n",
      "8      7\n",
      "5      5\n",
      "Name: SibSp, dtype: int64\n",
      "\n",
      "0    210\n",
      "1    112\n",
      "2     13\n",
      "3      4\n",
      "4      3\n",
      "Name: SibSp, dtype: int64\n",
      "\n",
      "0    678\n",
      "1    118\n",
      "2     80\n",
      "5      5\n",
      "3      5\n",
      "4      4\n",
      "6      1\n",
      "Name: Parch, dtype: int64\n",
      "\n",
      "0    233\n",
      "1     65\n",
      "2     40\n",
      "3      3\n",
      "5      1\n",
      "Name: Parch, dtype: int64\n",
      "\n"
     ]
    }
   ],
   "source": [
    "print(a[\"SibSp\"].value_counts())\n",
    "print(\"\")\n",
    "print(s[\"SibSp\"].value_counts())\n",
    "print(\"\")\n",
    "print(a[\"Parch\"].value_counts())\n",
    "print(\"\")\n",
    "print(s[\"Parch\"].value_counts())\n",
    "print(\"\")"
   ]
  },
  {
   "cell_type": "code",
   "execution_count": 15,
   "metadata": {},
   "outputs": [
    {
     "name": "stdout",
     "output_type": "stream",
     "text": [
      "No.of Passengers who came alone :  537\n"
     ]
    }
   ],
   "source": [
    "no_one=a.loc[a[\"SibSp\"]==0]\n",
    "print(\"No.of Passengers who came alone : \",len(no_one.loc[no_one[\"Parch\"]==0]))"
   ]
  },
  {
   "cell_type": "code",
   "execution_count": 14,
   "metadata": {},
   "outputs": [
    {
     "name": "stdout",
     "output_type": "stream",
     "text": [
      "Passengers who came alone survived :  163\n"
     ]
    }
   ],
   "source": [
    "no_one=s.loc[s[\"SibSp\"]==0]\n",
    "print(\"Passengers who came alone survived : \",len(no_one.loc[no_one[\"Parch\"]==0]))"
   ]
  },
  {
   "cell_type": "code",
   "execution_count": 16,
   "metadata": {},
   "outputs": [
    {
     "data": {
      "image/png": "[encoded data removed]",
      "text/plain": [
       "<matplotlib.figure.Figure at 0x77d9890>"
      ]
     },
     "metadata": {},
     "output_type": "display_data"
    }
   ],
   "source": [
    "x=[0.75,1.75]\n",
    "y=[1,2]\n",
    "x1=[537,354]\n",
    "y1=[163,179]\n",
    "ax=plt.subplot()\n",
    "r1=ax.bar(x,x1,width=0.25,color=\"red\")\n",
    "r2=ax.bar(y,y1,width=0.25,color=\"yellow\")\n",
    "plt.legend((r1,r2),(\"Total\",\"Survived\"))\n",
    "plt.xticks(range(1,3),[\"Passengers who came alone\",\"Passengers who came with Family\"])\n",
    "plt.ylabel(\"No. of Passenegers\")\n",
    "plt.show()"
   ]
  },
  {
   "cell_type": "code",
   "execution_count": 16,
   "metadata": {},
   "outputs": [
    {
     "name": "stdout",
     "output_type": "stream",
     "text": [
      "╒══════════════════════════════════════════════════════════╤═════════╕\n",
      "│ Total Number of People who came alone                    │ 537     │\n",
      "├──────────────────────────────────────────────────────────┼─────────┤\n",
      "│ Total Number of People who came alone and Survived       │ 163     │\n",
      "├──────────────────────────────────────────────────────────┼─────────┤\n",
      "│ Total Number of People who came with family              │ 354     │\n",
      "├──────────────────────────────────────────────────────────┼─────────┤\n",
      "│ Total Number of People who came with family and Survived │ 179     │\n",
      "├──────────────────────────────────────────────────────────┼─────────┤\n",
      "│ Percentage of Survivors who came with family             │ 50.56 % │\n",
      "├──────────────────────────────────────────────────────────┼─────────┤\n",
      "│ Percentage of Survivors who came alone                   │ 30.35 % │\n",
      "╘══════════════════════════════════════════════════════════╧═════════╛\n"
     ]
    }
   ],
   "source": [
    "print(tabulate([[\"Total Number of People who came alone\",537],[\"Total Number of People who came alone and Survived\",163],[\"Total Number of People who came with family\",354],[\"Total Number of People who came with family and Survived\",179],[\"Percentage of Survivors who came with family\",\"50.56 %\"],[\"Percentage of Survivors who came alone\",\"30.35 %\"]],tablefmt=\"fancy_grid\"))"
   ]
  },
  {
   "cell_type": "markdown",
   "metadata": {
    "collapsed": true
   },
   "source": [
    "### Survival of Passengers based on Fare"
   ]
  },
  {
   "cell_type": "code",
   "execution_count": 17,
   "metadata": {},
   "outputs": [
    {
     "name": "stdout",
     "output_type": "stream",
     "text": [
      "838 53\n",
      "290 52\n"
     ]
    },
    {
     "data": {
      "image/png": "[encoded data removed]",
      "text/plain": [
       "<matplotlib.figure.Figure at 0x77d9810>"
      ]
     },
     "metadata": {},
     "output_type": "display_data"
    }
   ],
   "source": [
    "count1=0\n",
    "count2=0\n",
    "for i in a[\"Fare\"]:\n",
    "    if i<=100:\n",
    "        count1=count1+1\n",
    "    else:\n",
    "        count2=count2+1\n",
    "fa=[count1,count2]\n",
    "ff=[]\n",
    "for i in s[\"Age\"]:\n",
    "    ff.append(i)\n",
    "print(count1,count2)\n",
    "count1=0\n",
    "count2=0\n",
    "for i in ff:\n",
    "    if i<=100:\n",
    "        count1=count1+1\n",
    "    else:\n",
    "        count2=count2+1\n",
    "x=[0.75,1.75]\n",
    "y=[1,2]\n",
    "print(count1,count2)\n",
    "fs=[count1,count2]\n",
    "ax=plt.subplot()\n",
    "r1=ax.bar(x,fa,width=0.25,color=\"red\")\n",
    "r2=ax.bar(y,fs,width=0.25,color=\"yellow\")\n",
    "plt.legend((r1,r2),(\"Total\",\"Survived\"))\n",
    "plt.xticks(range(1,3),[\"Less than 100\",\"More than 100\"])\n",
    "plt.xlabel(\"Fare\")\n",
    "plt.ylabel(\"No. of Passenegers\")\n",
    "plt.show()"
   ]
  },
  {
   "cell_type": "code",
   "execution_count": 18,
   "metadata": {},
   "outputs": [
    {
     "name": "stdout",
     "output_type": "stream",
     "text": [
      "╒══════════════════════════════════════════════════════════════════╤═════════╕\n",
      "│ Total Number of People whose fare was less than 100              │ 838     │\n",
      "├──────────────────────────────────────────────────────────────────┼─────────┤\n",
      "│ Total Number of People whose fare was less than 100 and Survived │ 290     │\n",
      "├──────────────────────────────────────────────────────────────────┼─────────┤\n",
      "│ Total Number of People whose fare was more than 100              │ 53      │\n",
      "├──────────────────────────────────────────────────────────────────┼─────────┤\n",
      "│ Total Number of People whose fare was more than 100 and Survived │ 52      │\n",
      "├──────────────────────────────────────────────────────────────────┼─────────┤\n",
      "│ Percentage of Survivors whose fare was less than 100             │ 34.6 %  │\n",
      "├──────────────────────────────────────────────────────────────────┼─────────┤\n",
      "│ Percentage of Survivors whose fare was more than 100             │ 98.11 % │\n",
      "╘══════════════════════════════════════════════════════════════════╧═════════╛\n"
     ]
    }
   ],
   "source": [
    "print(tabulate([[\"Total Number of People whose fare was less than 100\",838],[\"Total Number of People whose fare was less than 100 and Survived\",290],[\"Total Number of People whose fare was more than 100\",53],[\"Total Number of People whose fare was more than 100 and Survived\",52],[\"Percentage of Survivors whose fare was less than 100\",\"34.6 %\"],[\"Percentage of Survivors whose fare was more than 100\",\"98.11 %\"]],tablefmt=\"fancy_grid\"))"
   ]
  },
  {
   "cell_type": "markdown",
   "metadata": {},
   "source": [
    "# Conclusion\n",
    "\n",
    "We have analysed the probability of survival of passengers on the Titanic on the basis of sex, age, class of the ticket, family members and fare of the ticket. We found the following results:\n",
    "\n",
    "#### Overall\n",
    "Percentage of Passengers Survived - 61.61 % \n",
    "\n",
    "#### On the basis of sex\n",
    "Percentage of Male Passengers Survived - 18.89 % || \n",
    "Percentage of Female Passengers Survived - 74.2 % \n",
    "\n",
    "#### On the basis of age\n",
    "Percentage of Passengers who survived between age 0 and 10 - 59.37 % || \n",
    "Percentage of Passengers who survived between age 10 and 20 - 38.26 % ||\n",
    "Percentage of Passengers who survived between age 20 and 30 - 36.52 % ||\n",
    "Percentage of Passengers who survived between age 30 and 40 - 44.51 ||   \n",
    "Percentage of Passengers who survived between age 40 and 50 - 38.37 % ||\n",
    "Percentage of Passengers who survived between age 50 and 60 - 40.47 % ||\n",
    "Percentage of Passengers who survived between age 60 and 70 - 23.52 % ||\n",
    "Percentage of Passengers who survived between age 70 and 80 - 100 % \n",
    "\n",
    "#### On the basis of ticket class\n",
    "Percentage of 1st Class Survivors - 62.96 % ||\n",
    "Percentage of 2nd Class Survivors - 47.28 % ||\n",
    "Percentage of 3rd Class Survivors - 24.23 %\n",
    "\n",
    "#### On the basis of no. of family relatives one came with\n",
    "Percentage of Survivors who came with famiily - 50.56 % || \n",
    "Percentage of Survivors who came alone - 30.35 % \n",
    "\n",
    "#### On the basis of fare\n",
    "Percentage of Survivors whose fare was less than 100 - 34.6 % ||\n",
    "Percentage of Survivors whose fare was more than 100 - 98.11 %"
   ]
  },
  {
   "cell_type": "markdown",
   "metadata": {},
   "source": [
    "# Declaration\n",
    "\n",
    "The above study is the author's original work. All sources has been mentioned, where necessary.\n",
    "\n",
    " Arnab Deka\n",
    "\n",
    "(arnabdeka6@gmail.com)"
   ]
  }
 ],
 "metadata": {
  "kernelspec": {
   "display_name": "Python 3",
   "language": "python",
   "name": "python3"
  },
  "language_info": {
   "codemirror_mode": {
    "name": "ipython",
    "version": 3
   },
   "file_extension": ".py",
   "mimetype": "text/x-python",
   "name": "python",
   "nbconvert_exporter": "python",
   "pygments_lexer": "ipython3",
   "version": "3.4.4"
  }
 },
 "nbformat": 4,
 "nbformat_minor": 2
}
