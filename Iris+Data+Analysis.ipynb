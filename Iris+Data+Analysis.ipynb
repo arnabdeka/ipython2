{
 "cells": [
  {
   "cell_type": "markdown",
   "metadata": {},
   "source": [
    "# Study of the properties of 3 different Iris flowers "
   ]
  },
  {
   "cell_type": "markdown",
   "metadata": {},
   "source": [
    "Irises are wonderful garden plants. The word Iris means rainbow. Irises come in many colors such as blue and purple, white and yellow, pink and orange, brown and red, and even black.\n",
    "The genus Iris has about 200 species and is native to the North Temperate regions of the world. The habitat of irises also varies a lot. Some irises grow in deserts, some in swamps, some in the cold far north, and many in temperate climates. Bearded Iris and Siberian Iris are two of the most common types of irises grown.\n",
    "Kingdom - Plantae\n",
    "Division - Magnoliophyta\n",
    "Class - Liliopsida\n",
    "Order - Asparagales\n",
    "Family - Iridaceae\n",
    "Genus - Iris\n",
    "\n",
    "Source - http://www.theflowerexpert.com/content/mostpopularflowers/morepopularflowers/iris"
   ]
  },
  {
   "cell_type": "markdown",
   "metadata": {},
   "source": [
    "# Data Information\n",
    "\n",
    "Source of Data - https://www.kaggle.com/chuckyin/iris-datasets\n"
   ]
  },
  {
   "cell_type": "markdown",
   "metadata": {},
   "source": [
    "# Questions \n",
    "\n",
    "1. What is the relation between the four properties, namely petal length, petal width, sepal length and sepal width ?\n",
    "2. What is the relation between the four properties and the type of flower (i.e. Iris-setosa, Iris-versicolor, Iris-virginica) ?"
   ]
  },
  {
   "cell_type": "markdown",
   "metadata": {},
   "source": [
    "# Data Analysis"
   ]
  },
  {
   "cell_type": "code",
   "execution_count": 2,
   "metadata": {
    "collapsed": true
   },
   "outputs": [],
   "source": [
    "# importing differnt python packages used for analysing the given data.\n",
    "\n",
    "\n",
    "import pandas as pd                           # for importing data\n",
    "import matplotlib.pyplot as plt               # for data visualization \n",
    "import statistics                             # for statistical calculation\n",
    "import numpy as np\n",
    "from scipy.interpolate import UnivariateSpline\n",
    "from scipy.optimize import curve_fit\n",
    "from tabulate import tabulate\n",
    "import matplotlib.patches as mpatches\n",
    "from matplotlib.legend_handler import HandlerLine2D"
   ]
  },
  {
   "cell_type": "code",
   "execution_count": 13,
   "metadata": {},
   "outputs": [
    {
     "data": {
      "text/html": [
       "<div>\n",
       "<style>\n",
       "    .dataframe thead tr:only-child th {\n",
       "        text-align: right;\n",
       "    }\n",
       "\n",
       "    .dataframe thead th {\n",
       "        text-align: left;\n",
       "    }\n",
       "\n",
       "    .dataframe tbody tr th {\n",
       "        vertical-align: top;\n",
       "    }\n",
       "</style>\n",
       "<table border=\"1\" class=\"dataframe\">\n",
       "  <thead>\n",
       "    <tr style=\"text-align: right;\">\n",
       "      <th></th>\n",
       "      <th>Id</th>\n",
       "      <th>SepalLengthCm</th>\n",
       "      <th>SepalWidthCm</th>\n",
       "      <th>PetalLengthCm</th>\n",
       "      <th>PetalWidthCm</th>\n",
       "      <th>Species</th>\n",
       "    </tr>\n",
       "  </thead>\n",
       "  <tbody>\n",
       "    <tr>\n",
       "      <th>0</th>\n",
       "      <td>1</td>\n",
       "      <td>5.1</td>\n",
       "      <td>3.5</td>\n",
       "      <td>1.4</td>\n",
       "      <td>0.2</td>\n",
       "      <td>Iris-setosa</td>\n",
       "    </tr>\n",
       "    <tr>\n",
       "      <th>1</th>\n",
       "      <td>2</td>\n",
       "      <td>4.9</td>\n",
       "      <td>3.0</td>\n",
       "      <td>1.4</td>\n",
       "      <td>0.2</td>\n",
       "      <td>Iris-setosa</td>\n",
       "    </tr>\n",
       "    <tr>\n",
       "      <th>2</th>\n",
       "      <td>3</td>\n",
       "      <td>4.7</td>\n",
       "      <td>3.2</td>\n",
       "      <td>1.3</td>\n",
       "      <td>0.2</td>\n",
       "      <td>Iris-setosa</td>\n",
       "    </tr>\n",
       "    <tr>\n",
       "      <th>3</th>\n",
       "      <td>4</td>\n",
       "      <td>4.6</td>\n",
       "      <td>3.1</td>\n",
       "      <td>1.5</td>\n",
       "      <td>0.2</td>\n",
       "      <td>Iris-setosa</td>\n",
       "    </tr>\n",
       "    <tr>\n",
       "      <th>4</th>\n",
       "      <td>5</td>\n",
       "      <td>5.0</td>\n",
       "      <td>3.6</td>\n",
       "      <td>1.4</td>\n",
       "      <td>0.2</td>\n",
       "      <td>Iris-setosa</td>\n",
       "    </tr>\n",
       "  </tbody>\n",
       "</table>\n",
       "</div>"
      ],
      "text/plain": [
       "   Id  SepalLengthCm  SepalWidthCm  PetalLengthCm  PetalWidthCm      Species\n",
       "0   1            5.1           3.5            1.4           0.2  Iris-setosa\n",
       "1   2            4.9           3.0            1.4           0.2  Iris-setosa\n",
       "2   3            4.7           3.2            1.3           0.2  Iris-setosa\n",
       "3   4            4.6           3.1            1.5           0.2  Iris-setosa\n",
       "4   5            5.0           3.6            1.4           0.2  Iris-setosa"
      ]
     },
     "execution_count": 13,
     "metadata": {},
     "output_type": "execute_result"
    }
   ],
   "source": [
    "# importing the data \n",
    "\n",
    "a=pd.read_csv(\"C:\\\\Users\\\\dell\\\\Desktop\\\\Iris.csv\")    \n",
    "a.head()"
   ]
  },
  {
   "cell_type": "code",
   "execution_count": 7,
   "metadata": {},
   "outputs": [
    {
     "name": "stdout",
     "output_type": "stream",
     "text": [
      "<class 'pandas.core.frame.DataFrame'>\n",
      "RangeIndex: 150 entries, 0 to 149\n",
      "Data columns (total 6 columns):\n",
      "Id               150 non-null int64\n",
      "SepalLengthCm    150 non-null float64\n",
      "SepalWidthCm     150 non-null float64\n",
      "PetalLengthCm    150 non-null float64\n",
      "PetalWidthCm     150 non-null float64\n",
      "Species          150 non-null object\n",
      "dtypes: float64(4), int64(1), object(1)\n",
      "memory usage: 6.5+ KB\n"
     ]
    }
   ],
   "source": [
    "a.info()"
   ]
  },
  {
   "cell_type": "code",
   "execution_count": 11,
   "metadata": {
    "collapsed": true
   },
   "outputs": [],
   "source": [
    "# storing data in specific dataframes for efficiently accessing the data\n",
    "\n",
    "sepel_length = a[:][\"SepalLengthCm\"]\n",
    "sepel_width = a[:][\"SepalWidthCm\"]\n",
    "petal_length = a[:][\"PetalLengthCm\"]\n",
    "petal_width = a[:][\"PetalWidthCm\"]\n",
    "species = a[:][\"Species\"]"
   ]
  },
  {
   "cell_type": "markdown",
   "metadata": {},
   "source": [
    "# 1. What is the relation between the four properties, namely petal length, petal        width, sepal length and sepal width ?"
   ]
  },
  {
   "cell_type": "markdown",
   "metadata": {},
   "source": [
    "### Relation between sepal length and sepal width"
   ]
  },
  {
   "cell_type": "code",
   "execution_count": 66,
   "metadata": {},
   "outputs": [
    {
     "data": {
      "image/png": "[encoded data removed]",
      "text/plain": [
       "<matplotlib.figure.Figure at 0x6671230>"
      ]
     },
     "metadata": {},
     "output_type": "display_data"
    }
   ],
   "source": [
    "plt.scatter(sepel_length,sepel_width,color=[\"red\",\"green\"])                   \n",
    "plt.ylabel(\"Sepal Length\")\n",
    "plt.xlabel(\"Sepal Width\")\n",
    "red_patch = mpatches.Patch(color='red', label='Sepal Length')\n",
    "green_patch = mpatches.Patch(color=\"green\",label=\"Petal Length\")\n",
    "plt.legend(handles=[red_patch,green_patch],loc=1)\n",
    "plt.show() "
   ]
  },
  {
   "cell_type": "markdown",
   "metadata": {},
   "source": [
    "### Relation between petal length and petal width\n"
   ]
  },
  {
   "cell_type": "code",
   "execution_count": 67,
   "metadata": {},
   "outputs": [
    {
     "data": {
      "image/png": "[encoded data removed]",
      "text/plain": [
       "<matplotlib.figure.Figure at 0x9598c70>"
      ]
     },
     "metadata": {},
     "output_type": "display_data"
    }
   ],
   "source": [
    "plt.scatter(petal_length, petal_width,color=[\"red\",\"green\"])\n",
    "plt.ylabel(\"Petal Length\")\n",
    "plt.xlabel(\"Petal Width\")\n",
    "red_patch = mpatches.Patch(color='red', label='Sepal Length')\n",
    "green_patch = mpatches.Patch(color=\"green\",label=\"Petal Length\")\n",
    "plt.legend(handles=[red_patch,green_patch],loc=2)\n",
    "plt.show()"
   ]
  },
  {
   "cell_type": "markdown",
   "metadata": {},
   "source": [
    "### Relation between Sepal Length and Petal Length"
   ]
  },
  {
   "cell_type": "code",
   "execution_count": 45,
   "metadata": {},
   "outputs": [
    {
     "data": {
      "image/png": "[encoded data removed]",
      "text/plain": [
       "<matplotlib.figure.Figure at 0x6619f10>"
      ]
     },
     "metadata": {},
     "output_type": "display_data"
    }
   ],
   "source": [
    "plt.scatter(sepel_length, petal_length, color=[\"red\",\"green\"])\n",
    "plt.ylabel(\"Sepal Length\")\n",
    "plt.xlabel(\"Petal length\")\n",
    "red_patch = mpatches.Patch(color='red', label='Sepal Length')\n",
    "green_patch = mpatches.Patch(color=\"green\",label=\"Petal Length\")\n",
    "plt.legend(handles=[red_patch,green_patch],loc=2)\n",
    "plt.show()"
   ]
  },
  {
   "cell_type": "markdown",
   "metadata": {},
   "source": [
    "### Relation between Sepal Width and Petal Width "
   ]
  },
  {
   "cell_type": "code",
   "execution_count": 59,
   "metadata": {},
   "outputs": [
    {
     "data": {
      "image/png": "[encoded data removed]",
      "text/plain": [
       "<matplotlib.figure.Figure at 0x65bfdd0>"
      ]
     },
     "metadata": {},
     "output_type": "display_data"
    }
   ],
   "source": [
    "plt.scatter(sepel_width, petal_width, color=[\"red\",\"green\"])\n",
    "plt.ylabel(\"Sepal Width\")\n",
    "plt.xlabel(\"Petal Width\")\n",
    "red_patch = mpatches.Patch(color='red', label='Sepal Width')\n",
    "green_patch = mpatches.Patch(color=\"green\",label=\"Petal Width\")\n",
    "plt.legend(handles=[red_patch,green_patch],loc=5)\n",
    "plt.show()"
   ]
  },
  {
   "cell_type": "markdown",
   "metadata": {},
   "source": [
    "## Analysis of the relation between the four parameters \n",
    "\n",
    "From the above scatterplots, we find that there seems to be a linear relationship between petal length and petal width and also between sepal length and petal length to a certain extent. No such relationship can be found between sepal length and petal length and between sepal width and petal width."
   ]
  },
  {
   "cell_type": "markdown",
   "metadata": {},
   "source": [
    "# 2. What is the relation between the four properties and the type of flower (i.e. Iris-setosa, Iris-versicolor, Iris-virginica) ?"
   ]
  },
  {
   "cell_type": "markdown",
   "metadata": {},
   "source": [
    "### Relation between Sepal length and Iris-setosa"
   ]
  },
  {
   "cell_type": "code",
   "execution_count": 150,
   "metadata": {},
   "outputs": [
    {
     "name": "stdout",
     "output_type": "stream",
     "text": [
      "Mean :  5.006\n",
      "Median :  5.0\n",
      "Variance :  0.121764\n",
      "Standard Deviation :  0.348946987378\n",
      "5.1    8\n",
      "5.0    8\n",
      "5.4    5\n",
      "4.8    5\n",
      "4.6    4\n",
      "4.9    4\n",
      "4.4    3\n",
      "5.2    3\n",
      "5.7    2\n",
      "4.7    2\n",
      "5.5    2\n",
      "5.3    1\n",
      "5.8    1\n",
      "4.3    1\n",
      "4.5    1\n",
      "Name: SepalLengthCm, dtype: int64\n"
     ]
    },
    {
     "data": {
      "image/png": "[encoded data removed]",
      "text/plain": [
       "<matplotlib.figure.Figure at 0x8dcb910>"
      ]
     },
     "metadata": {},
     "output_type": "display_data"
    }
   ],
   "source": [
    "q=a.loc[a['Species'] == \"Iris-setosa\"]\n",
    "print(\"Mean : \",statistics.mean(q[\"SepalLengthCm\"]))\n",
    "print(\"Median : \",statistics.median(q[\"SepalLengthCm\"]))\n",
    "s=0\n",
    "for i in q[\"SepalLengthCm\"]:\n",
    "    s=s+pow((i-statistics.mean(q[\"SepalLengthCm\"])),2)\n",
    "print(\"Variance : \",(s/50))\n",
    "print(\"Standard Deviation : \",pow((s/50),0.5))\n",
    "print(q[\"SepalLengthCm\"].value_counts())\n",
    "xx=[x for x in range(1,51)]\n",
    "plt.bar(xx,q[\"SepalLengthCm\"],width=1,color=\"blue\")\n",
    "plt.ylabel(\"Sepal Length\")\n",
    "plt.xlabel(\"Iris-setosa sample id\")\n",
    "plt.show()"
   ]
  },
  {
   "cell_type": "markdown",
   "metadata": {},
   "source": [
    "As we can see from the above information, the mean sepal length is 5.006 cm, median sepal length is 5.0 cm. Since it is bimodal, the modal lengths are 5.1 cm and 5.0 cm.  "
   ]
  },
  {
   "cell_type": "markdown",
   "metadata": {},
   "source": [
    "### Relation between Sepal width and Iris-setosa"
   ]
  },
  {
   "cell_type": "code",
   "execution_count": 151,
   "metadata": {},
   "outputs": [
    {
     "name": "stdout",
     "output_type": "stream",
     "text": [
      "Mean :  3.418\n",
      "Median :  3.4\n",
      "Mode :  3.4\n",
      "Variance :  0.142276\n",
      "Standard Deviation :  0.377194909828\n",
      "3.4    9\n",
      "3.0    6\n",
      "3.5    6\n",
      "3.1    5\n",
      "3.2    5\n",
      "3.8    4\n",
      "3.7    3\n",
      "3.6    2\n",
      "3.9    2\n",
      "3.3    2\n",
      "2.9    1\n",
      "2.3    1\n",
      "4.1    1\n",
      "4.4    1\n",
      "4.2    1\n",
      "4.0    1\n",
      "Name: SepalWidthCm, dtype: int64\n"
     ]
    },
    {
     "data": {
      "image/png": "[encoded data removed]",
      "text/plain": [
       "<matplotlib.figure.Figure at 0x858f530>"
      ]
     },
     "metadata": {},
     "output_type": "display_data"
    }
   ],
   "source": [
    "q=a.loc[a['Species'] == \"Iris-setosa\"]\n",
    "print(\"Mean : \",statistics.mean(q[\"SepalWidthCm\"]))\n",
    "print(\"Median : \",statistics.median(q[\"SepalWidthCm\"]))\n",
    "print(\"Mode : \",statistics.mode(q[\"SepalWidthCm\"]))\n",
    "s=0\n",
    "for i in q[\"SepalWidthCm\"]:\n",
    "    s=s+pow((i-statistics.mean(q[\"SepalWidthCm\"])),2)\n",
    "print(\"Variance : \",(s/50))\n",
    "print(\"Standard Deviation : \",pow((s/50),0.5))\n",
    "print(q[\"SepalWidthCm\"].value_counts())\n",
    "xx=[x for x in range(1,51)]\t\n",
    "plt.bar(xx,q[\"SepalWidthCm\"],width=1,color=\"blue\")\n",
    "plt.ylabel(\"Sepal Width\")\n",
    "plt.xlabel(\"Iris-setosa sample id\")\n",
    "plt.show()"
   ]
  },
  {
   "cell_type": "markdown",
   "metadata": {},
   "source": [
    "As we can see from the above information, the mean sepal width is 3.418 cm, median sepal width is 3.4 cm and the modal length is 3.4 cm. "
   ]
  },
  {
   "cell_type": "markdown",
   "metadata": {},
   "source": [
    "### Relation between Petal length and Iris-setosa"
   ]
  },
  {
   "cell_type": "code",
   "execution_count": 152,
   "metadata": {},
   "outputs": [
    {
     "name": "stdout",
     "output_type": "stream",
     "text": [
      "Mean :  1.464\n",
      "Median :  1.5\n",
      "Mode :  1.5\n",
      "Variance :  0.029504\n",
      "Standard Deviation :  0.171767284429\n",
      "1.5    14\n",
      "1.4    12\n",
      "1.3     7\n",
      "1.6     7\n",
      "1.7     4\n",
      "1.2     2\n",
      "1.9     2\n",
      "1.1     1\n",
      "1.0     1\n",
      "Name: PetalLengthCm, dtype: int64\n"
     ]
    },
    {
     "data": {
      "image/png": "[encoded data removed]",
      "text/plain": [
       "<matplotlib.figure.Figure at 0x91388f0>"
      ]
     },
     "metadata": {},
     "output_type": "display_data"
    }
   ],
   "source": [
    "q=a.loc[a['Species'] == \"Iris-setosa\"]\n",
    "print(\"Mean : \",statistics.mean(q[\"PetalLengthCm\"]))\n",
    "print(\"Median : \",statistics.median(q[\"PetalLengthCm\"]))\n",
    "print(\"Mode : \",statistics.mode(q[\"PetalLengthCm\"]))\n",
    "s=0\n",
    "for i in q[\"PetalLengthCm\"]:\n",
    "    s=s+pow((i-statistics.mean(q[\"PetalLengthCm\"])),2)\n",
    "print(\"Variance : \",(s/50))\n",
    "print(\"Standard Deviation : \",pow((s/50),0.5))\n",
    "print(q[\"PetalLengthCm\"].value_counts())\n",
    "xx=[x for x in range(1,51)]\t\n",
    "plt.bar(xx,q[\"PetalLengthCm\"],width=1,color=\"blue\")\n",
    "plt.ylabel(\"Petal Length\")\n",
    "plt.xlabel(\"Iris-setosa sample id\")\n",
    "plt.show()"
   ]
  },
  {
   "cell_type": "markdown",
   "metadata": {},
   "source": [
    "As we can see from the above information, the mean sepal width is 1.464 cm, median sepal width is 1.5 cm and the modal length is 3.4 cm."
   ]
  },
  {
   "cell_type": "markdown",
   "metadata": {},
   "source": [
    "### Relation between Petal width and Iris-setosa"
   ]
  },
  {
   "cell_type": "code",
   "execution_count": 153,
   "metadata": {},
   "outputs": [
    {
     "name": "stdout",
     "output_type": "stream",
     "text": [
      "Mean :  0.244\n",
      "Median :  0.2\n",
      "Mode :  0.2\n",
      "Variance :  0.011264\n",
      "Standard Deviation :  0.106131993291\n",
      "0.2    28\n",
      "0.4     7\n",
      "0.3     7\n",
      "0.1     6\n",
      "0.6     1\n",
      "0.5     1\n",
      "Name: PetalWidthCm, dtype: int64\n"
     ]
    },
    {
     "data": {
      "image/png": "[encoded data removed]",
      "text/plain": [
       "<matplotlib.figure.Figure at 0x8df3af0>"
      ]
     },
     "metadata": {},
     "output_type": "display_data"
    }
   ],
   "source": [
    "q=a.loc[a['Species'] == \"Iris-setosa\"]\n",
    "print(\"Mean : \",statistics.mean(q[\"PetalWidthCm\"]))\n",
    "print(\"Median : \",statistics.median(q[\"PetalWidthCm\"]))\n",
    "print(\"Mode : \",statistics.mode(q[\"PetalWidthCm\"]))\n",
    "s=0\n",
    "for i in q[\"PetalWidthCm\"]:\n",
    "    s=s+pow((i-statistics.mean(q[\"PetalWidthCm\"])),2)\n",
    "print(\"Variance : \",(s/50))\n",
    "print(\"Standard Deviation : \",pow((s/50),0.5))\n",
    "print(q[\"PetalWidthCm\"].value_counts())\n",
    "xx=[x for x in range(1,51)]\t\n",
    "plt.bar(xx,q[\"PetalWidthCm\"],width=1,color=\"blue\")\n",
    "plt.ylabel(\"Petal Width\")\n",
    "plt.xlabel(\"Iris-setosa sample id\")\n",
    "plt.show()"
   ]
  },
  {
   "cell_type": "markdown",
   "metadata": {},
   "source": [
    "As we can see from the above information, the mean sepal width is 0.244 cm, median sepal width is 0.2 cm and the modal length is 0.2 cm."
   ]
  },
  {
   "cell_type": "markdown",
   "metadata": {},
   "source": [
    "### Relation between Sepal length and Iris-versicolor"
   ]
  },
  {
   "cell_type": "code",
   "execution_count": 154,
   "metadata": {},
   "outputs": [
    {
     "name": "stdout",
     "output_type": "stream",
     "text": [
      "Mean :  5.936\n",
      "Median :  5.9\n",
      "Variance :  0.261104\n",
      "Standard Deviation :  0.510983365678\n",
      "5.5    5\n",
      "5.7    5\n",
      "5.6    5\n",
      "6.1    4\n",
      "6.0    4\n",
      "6.7    3\n",
      "5.8    3\n",
      "6.3    3\n",
      "5.9    2\n",
      "5.0    2\n",
      "6.4    2\n",
      "6.6    2\n",
      "6.2    2\n",
      "6.5    1\n",
      "5.2    1\n",
      "4.9    1\n",
      "6.8    1\n",
      "5.4    1\n",
      "5.1    1\n",
      "6.9    1\n",
      "7.0    1\n",
      "Name: SepalLengthCm, dtype: int64\n"
     ]
    },
    {
     "data": {
      "image/png": "[encoded data removed]",
      "text/plain": [
       "<matplotlib.figure.Figure at 0x860be30>"
      ]
     },
     "metadata": {},
     "output_type": "display_data"
    }
   ],
   "source": [
    "q=a.loc[a['Species'] == \"Iris-versicolor\"]\n",
    "print(\"Mean : \",statistics.mean(q[\"SepalLengthCm\"]))\n",
    "print(\"Median : \",statistics.median(q[\"SepalLengthCm\"]))\n",
    "s=0\n",
    "for i in q[\"SepalLengthCm\"]:\n",
    "    s=s+pow((i-statistics.mean(q[\"SepalLengthCm\"])),2)\n",
    "print(\"Variance : \",(s/50))\n",
    "print(\"Standard Deviation : \",pow((s/50),0.5))\n",
    "print(q[\"SepalLengthCm\"].value_counts())\n",
    "xx=[x for x in range(51,101)]\n",
    "plt.bar(xx,q[\"SepalLengthCm\"],width=1,color=\"blue\")\n",
    "plt.ylabel(\"Sepal Length\")\n",
    "plt.xlabel(\"Iris-versicolor sample id\")\n",
    "plt.show()"
   ]
  },
  {
   "cell_type": "markdown",
   "metadata": {},
   "source": [
    "As we can see from the above information, the mean sepal length is 5.936 cm, median sepal length is 5.9 cm. Since it is trimodal, the modal lengths are 5.5 cm, 5.6 cm and 5.7 cm."
   ]
  },
  {
   "cell_type": "markdown",
   "metadata": {},
   "source": [
    "### Relation between Sepal width and Iris-versicolor"
   ]
  },
  {
   "cell_type": "code",
   "execution_count": 155,
   "metadata": {},
   "outputs": [
    {
     "name": "stdout",
     "output_type": "stream",
     "text": [
      "Mean :  2.77\n",
      "Median :  2.8\n",
      "Mode :  3.0\n",
      "Variance :  0.0965\n",
      "Standard Deviation :  0.31064449134\n",
      "3.0    8\n",
      "2.9    7\n",
      "2.8    6\n",
      "2.7    5\n",
      "2.5    4\n",
      "2.6    3\n",
      "3.1    3\n",
      "2.4    3\n",
      "3.2    3\n",
      "2.3    3\n",
      "2.2    2\n",
      "3.4    1\n",
      "3.3    1\n",
      "2.0    1\n",
      "Name: SepalWidthCm, dtype: int64\n"
     ]
    },
    {
     "data": {
      "image/png": "[encoded data removed]",
      "text/plain": [
       "<matplotlib.figure.Figure at 0x85b7cf0>"
      ]
     },
     "metadata": {},
     "output_type": "display_data"
    }
   ],
   "source": [
    "q=a.loc[a['Species'] == \"Iris-versicolor\"]\n",
    "print(\"Mean : \",statistics.mean(q[\"SepalWidthCm\"]))\n",
    "print(\"Median : \",statistics.median(q[\"SepalWidthCm\"]))\n",
    "print(\"Mode : \",statistics.mode(q[\"SepalWidthCm\"]))\n",
    "s=0\n",
    "for i in q[\"SepalWidthCm\"]:\n",
    "    s=s+pow((i-statistics.mean(q[\"SepalWidthCm\"])),2)\n",
    "print(\"Variance : \",(s/50))\n",
    "print(\"Standard Deviation : \",pow((s/50),0.5))\n",
    "print(q[\"SepalWidthCm\"].value_counts())\n",
    "xx=[x for x in range(51,101)]\n",
    "plt.bar(xx,q[\"SepalWidthCm\"],width=1,color=\"blue\")\n",
    "plt.ylabel(\"Sepal Width\")\n",
    "plt.xlabel(\"Iris-versicolor sample id\")\n",
    "plt.show()"
   ]
  },
  {
   "cell_type": "markdown",
   "metadata": {},
   "source": [
    "As we can see from the above information, the mean sepal width is 2.77 cm, median sepal width is 2.8 cm and the modal length is 3.0 cm."
   ]
  },
  {
   "cell_type": "markdown",
   "metadata": {},
   "source": [
    "### Relation between Petal length and Iris-versicolor"
   ]
  },
  {
   "cell_type": "code",
   "execution_count": 156,
   "metadata": {},
   "outputs": [
    {
     "name": "stdout",
     "output_type": "stream",
     "text": [
      "Mean :  4.26\n",
      "Median :  4.35\n",
      "Mode :  4.5\n",
      "Variance :  0.2164\n",
      "Standard Deviation :  0.465188133985\n",
      "4.5    7\n",
      "4.7    5\n",
      "4.0    5\n",
      "4.2    4\n",
      "4.4    4\n",
      "3.9    3\n",
      "4.1    3\n",
      "4.6    3\n",
      "4.8    2\n",
      "4.3    2\n",
      "4.9    2\n",
      "3.5    2\n",
      "3.3    2\n",
      "5.1    1\n",
      "3.8    1\n",
      "3.7    1\n",
      "3.6    1\n",
      "3.0    1\n",
      "5.0    1\n",
      "Name: PetalLengthCm, dtype: int64\n"
     ]
    },
    {
     "data": {
      "image/png": "[encoded data removed]",
      "text/plain": [
       "<matplotlib.figure.Figure at 0x85a75f0>"
      ]
     },
     "metadata": {},
     "output_type": "display_data"
    }
   ],
   "source": [
    "q=a.loc[a['Species'] == \"Iris-versicolor\"]\n",
    "print(\"Mean : \",statistics.mean(q[\"PetalLengthCm\"]))\n",
    "print(\"Median : \",statistics.median(q[\"PetalLengthCm\"]))\n",
    "print(\"Mode : \",statistics.mode(q[\"PetalLengthCm\"]))\n",
    "s=0\n",
    "for i in q[\"PetalLengthCm\"]:\n",
    "    s=s+pow((i-statistics.mean(q[\"PetalLengthCm\"])),2)\n",
    "print(\"Variance : \",(s/50))\n",
    "print(\"Standard Deviation : \",pow((s/50),0.5))\n",
    "print(q[\"PetalLengthCm\"].value_counts())\n",
    "xx=[x for x in range(51,101)]\n",
    "plt.bar(xx,q[\"PetalLengthCm\"],width=1,color=\"blue\")\n",
    "plt.ylabel(\"Petal Length\")\n",
    "plt.xlabel(\"Iris-versicolor sample id\")\n",
    "plt.show()"
   ]
  },
  {
   "cell_type": "markdown",
   "metadata": {},
   "source": [
    "As we can see from the above information, the mean sepal width is 4.26 cm, median sepal width is 4.35 cm and the modal length is 4.5 cm."
   ]
  },
  {
   "cell_type": "markdown",
   "metadata": {},
   "source": [
    "### Relation between Petal width and Iris-versicolor"
   ]
  },
  {
   "cell_type": "code",
   "execution_count": 157,
   "metadata": {},
   "outputs": [
    {
     "name": "stdout",
     "output_type": "stream",
     "text": [
      "Mean :  1.326\n",
      "Median :  1.3\n",
      "Mode :  1.3\n",
      "Variance :  0.038324\n",
      "Standard Deviation :  0.195765165441\n",
      "1.3    13\n",
      "1.5    10\n",
      "1.4     7\n",
      "1.0     7\n",
      "1.2     5\n",
      "1.1     3\n",
      "1.6     3\n",
      "1.8     1\n",
      "1.7     1\n",
      "Name: PetalWidthCm, dtype: int64\n"
     ]
    },
    {
     "data": {
      "image/png": "[encoded data removed]",
      "text/plain": [
       "<matplotlib.figure.Figure at 0x8654eb0>"
      ]
     },
     "metadata": {},
     "output_type": "display_data"
    }
   ],
   "source": [
    "a.loc[a['Species'] == \"Iris-versicolor\"]\n",
    "print(\"Mean : \",statistics.mean(q[\"PetalWidthCm\"]))\n",
    "print(\"Median : \",statistics.median(q[\"PetalWidthCm\"]))\n",
    "print(\"Mode : \",statistics.mode(q[\"PetalWidthCm\"]))\n",
    "s=0\n",
    "for i in q[\"PetalWidthCm\"]:\n",
    "    s=s+pow((i-statistics.mean(q[\"PetalWidthCm\"])),2)\n",
    "print(\"Variance : \",(s/50))\n",
    "print(\"Standard Deviation : \",pow((s/50),0.5))\n",
    "print(q[\"PetalWidthCm\"].value_counts())\n",
    "xx=[x for x in range(51,101)]\n",
    "plt.bar(xx,q[\"PetalWidthCm\"],width=1,color=\"blue\")\n",
    "plt.ylabel(\"Petal Width\")\n",
    "plt.xlabel(\"Iris-versicolor sample id\")\n",
    "plt.show()"
   ]
  },
  {
   "cell_type": "markdown",
   "metadata": {},
   "source": [
    "As we can see from the above information, the mean sepal width is 1.326 cm, median sepal width is 1.3 cm and the modal length is 1.3 cm."
   ]
  },
  {
   "cell_type": "markdown",
   "metadata": {},
   "source": [
    "### Relation between Sepal length and Iris-virginica"
   ]
  },
  {
   "cell_type": "code",
   "execution_count": 158,
   "metadata": {},
   "outputs": [
    {
     "name": "stdout",
     "output_type": "stream",
     "text": [
      "Mean :  6.588\n",
      "Median :  6.5\n",
      "Mode :  6.3\n",
      "Variance :  0.396256\n",
      "Standard Deviation :  0.629488681391\n",
      "6.3    6\n",
      "6.4    5\n",
      "6.7    5\n",
      "6.5    4\n",
      "7.7    4\n",
      "7.2    3\n",
      "5.8    3\n",
      "6.9    3\n",
      "6.0    2\n",
      "6.8    2\n",
      "6.1    2\n",
      "6.2    2\n",
      "5.6    1\n",
      "7.6    1\n",
      "4.9    1\n",
      "7.1    1\n",
      "7.4    1\n",
      "5.7    1\n",
      "7.9    1\n",
      "7.3    1\n",
      "5.9    1\n",
      "Name: SepalLengthCm, dtype: int64\n"
     ]
    },
    {
     "data": {
      "image/png": "[encoded data removed]",
      "text/plain": [
       "<matplotlib.figure.Figure at 0x856f770>"
      ]
     },
     "metadata": {},
     "output_type": "display_data"
    }
   ],
   "source": [
    "q=a.loc[a['Species'] == \"Iris-virginica\"]\n",
    "print(\"Mean : \",statistics.mean(q[\"SepalLengthCm\"]))\n",
    "print(\"Median : \",statistics.median(q[\"SepalLengthCm\"]))\n",
    "print(\"Mode : \",statistics.mode(q[\"SepalLengthCm\"]))\n",
    "s=0\n",
    "for i in q[\"SepalLengthCm\"]:\n",
    "    s=s+pow((i-statistics.mean(q[\"SepalLengthCm\"])),2)\n",
    "print(\"Variance : \",(s/50))\n",
    "print(\"Standard Deviation : \",pow((s/50),0.5))\n",
    "print(q[\"SepalLengthCm\"].value_counts())\n",
    "xx=[x for x in range(101,151)]\t\n",
    "plt.bar(xx,q[\"SepalLengthCm\"],width=1,color=\"blue\")\n",
    "plt.ylabel(\"Sepal Length\")\n",
    "plt.xlabel(\"Iris-virginica sample id\")\n",
    "plt.show()"
   ]
  },
  {
   "cell_type": "markdown",
   "metadata": {},
   "source": [
    "As we can see from the above information, the mean sepal width is 6.588 cm, median sepal width is 6.5 cm and the modal length is 6.3 cm."
   ]
  },
  {
   "cell_type": "markdown",
   "metadata": {},
   "source": [
    "### Relation between Sepal width and Iris-virginica"
   ]
  },
  {
   "cell_type": "code",
   "execution_count": 159,
   "metadata": {},
   "outputs": [
    {
     "name": "stdout",
     "output_type": "stream",
     "text": [
      "Mean :  2.974\n",
      "Median :  3.0\n",
      "Mode :  3.0\n",
      "Variance :  0.101924\n",
      "Standard Deviation :  0.319255383666\n",
      "3.0    12\n",
      "2.8     8\n",
      "3.2     5\n",
      "2.7     4\n",
      "3.1     4\n",
      "2.5     4\n",
      "3.3     3\n",
      "2.6     2\n",
      "3.4     2\n",
      "2.9     2\n",
      "3.8     2\n",
      "3.6     1\n",
      "2.2     1\n",
      "Name: SepalWidthCm, dtype: int64\n"
     ]
    },
    {
     "data": {
      "image/png": "[encoded data removed]",
      "text/plain": [
       "<matplotlib.figure.Figure at 0x8eec390>"
      ]
     },
     "metadata": {},
     "output_type": "display_data"
    }
   ],
   "source": [
    "q=a.loc[a['Species'] == \"Iris-virginica\"]\n",
    "print(\"Mean : \",statistics.mean(q[\"SepalWidthCm\"]))\n",
    "print(\"Median : \",statistics.median(q[\"SepalWidthCm\"]))\n",
    "print(\"Mode : \",statistics.mode(q[\"SepalWidthCm\"]))\n",
    "s=0\n",
    "for i in q[\"SepalWidthCm\"]:\n",
    "    s=s+pow((i-statistics.mean(q[\"SepalWidthCm\"])),2)\n",
    "print(\"Variance : \",(s/50))\n",
    "print(\"Standard Deviation : \",pow((s/50),0.5))\n",
    "print(q[\"SepalWidthCm\"].value_counts())\n",
    "xx=[x for x in range(101,151)]\t\n",
    "plt.bar(xx,q[\"SepalWidthCm\"],width=1,color=\"blue\")\n",
    "plt.ylabel(\"Sepal Width\")\n",
    "plt.xlabel(\"Iris-versicolor sample id\")\n",
    "plt.show()"
   ]
  },
  {
   "cell_type": "markdown",
   "metadata": {},
   "source": [
    "As we can see from the above information, the mean sepal width is 2.974 cm, median sepal width is 3.0 cm and the modal length is 3.0 cm."
   ]
  },
  {
   "cell_type": "markdown",
   "metadata": {},
   "source": [
    "### Relation between petal length and Iris-virginica"
   ]
  },
  {
   "cell_type": "code",
   "execution_count": 160,
   "metadata": {},
   "outputs": [
    {
     "name": "stdout",
     "output_type": "stream",
     "text": [
      "Mean :  5.552\n",
      "Median :  5.55\n",
      "Mode :  5.1\n",
      "Variance :  0.298496\n",
      "Standard Deviation :  0.546347874527\n",
      "5.1    7\n",
      "5.6    6\n",
      "5.5    3\n",
      "5.0    3\n",
      "4.9    3\n",
      "5.8    3\n",
      "6.1    3\n",
      "5.7    3\n",
      "4.8    2\n",
      "5.2    2\n",
      "5.9    2\n",
      "6.0    2\n",
      "5.4    2\n",
      "6.7    2\n",
      "5.3    2\n",
      "6.4    1\n",
      "6.3    1\n",
      "6.9    1\n",
      "4.5    1\n",
      "6.6    1\n",
      "Name: PetalLengthCm, dtype: int64\n"
     ]
    },
    {
     "data": {
      "image/png": "[encoded data removed]",
      "text/plain": [
       "<matplotlib.figure.Figure at 0x8fead70>"
      ]
     },
     "metadata": {},
     "output_type": "display_data"
    }
   ],
   "source": [
    "q=a.loc[a['Species'] == \"Iris-virginica\"]\n",
    "print(\"Mean : \",statistics.mean(q[\"PetalLengthCm\"]))\n",
    "print(\"Median : \",statistics.median(q[\"PetalLengthCm\"]))\n",
    "print(\"Mode : \",statistics.mode(q[\"PetalLengthCm\"]))\n",
    "s=0\n",
    "for i in q[\"PetalLengthCm\"]:\n",
    "    s=s+pow((i-statistics.mean(q[\"PetalLengthCm\"])),2)\n",
    "print(\"Variance : \",(s/50))\n",
    "print(\"Standard Deviation : \",pow((s/50),0.5))\n",
    "print(q[\"PetalLengthCm\"].value_counts())\n",
    "xx=[x for x in range(101,151)]\t\n",
    "plt.bar(xx,q[\"PetalLengthCm\"],width=1,color=\"blue\")\n",
    "plt.ylabel(\"Petal Length\")\n",
    "plt.xlabel(\"Iris-versicolor sample id\")\n",
    "plt.show()"
   ]
  },
  {
   "cell_type": "markdown",
   "metadata": {},
   "source": [
    "As we can see from the above information, the mean sepal width is 5.552 cm, median sepal width is 5.55 cm and the modal length is 5.1 cm."
   ]
  },
  {
   "cell_type": "markdown",
   "metadata": {},
   "source": [
    "### Relation between Petal width and Iris-virginica"
   ]
  },
  {
   "cell_type": "code",
   "execution_count": 161,
   "metadata": {},
   "outputs": [
    {
     "name": "stdout",
     "output_type": "stream",
     "text": [
      "Mean :  2.026\n",
      "Median :  2.0\n",
      "Mode :  1.8\n",
      "Variance :  0.073924\n",
      "Standard Deviation :  0.271889683512\n",
      "1.8    11\n",
      "2.3     8\n",
      "2.1     6\n",
      "2.0     6\n",
      "1.9     5\n",
      "2.4     3\n",
      "2.2     3\n",
      "2.5     3\n",
      "1.5     2\n",
      "1.6     1\n",
      "1.7     1\n",
      "1.4     1\n",
      "Name: PetalWidthCm, dtype: int64\n"
     ]
    },
    {
     "data": {
      "image/png": "[encoded data removed]",
      "text/plain": [
       "<matplotlib.figure.Figure at 0x868c350>"
      ]
     },
     "metadata": {},
     "output_type": "display_data"
    }
   ],
   "source": [
    "q=a.loc[a['Species'] == \"Iris-virginica\"]\n",
    "print(\"Mean : \",statistics.mean(q[\"PetalWidthCm\"]))\n",
    "print(\"Median : \",statistics.median(q[\"PetalWidthCm\"]))\n",
    "print(\"Mode : \",statistics.mode(q[\"PetalWidthCm\"]))\n",
    "s=0\n",
    "for i in q[\"PetalWidthCm\"]:\n",
    "    s=s+pow((i-statistics.mean(q[\"PetalWidthCm\"])),2)\n",
    "print(\"Variance : \",(s/50))\n",
    "print(\"Standard Deviation : \",pow((s/50),0.5))\n",
    "print(q[\"PetalWidthCm\"].value_counts())\n",
    "xx=[x for x in range(101,151)]\n",
    "plt.bar(xx,q[\"PetalWidthCm\"],width=1,color=\"blue\")\n",
    "plt.ylabel(\"Petal Width\")\n",
    "plt.xlabel(\"Iris-versicolor sample id\")\n",
    "plt.show()"
   ]
  },
  {
   "cell_type": "markdown",
   "metadata": {},
   "source": [
    "As we can see from the above information, the mean sepal width is 2.026 cm, median sepal width is 2.0 cm and the modal length is 1.8 cm."
   ]
  },
  {
   "cell_type": "markdown",
   "metadata": {},
   "source": [
    "# Results"
   ]
  },
  {
   "cell_type": "markdown",
   "metadata": {},
   "source": [
    "### Table for Iris-setosa"
   ]
  },
  {
   "cell_type": "code",
   "execution_count": 4,
   "metadata": {},
   "outputs": [
    {
     "name": "stdout",
     "output_type": "stream",
     "text": [
      "╒════════════════════╤════════════════╤═══════════════╤════════════════╤═══════════════╕\n",
      "│                    │ Sepal length   │   Sepal Width │   Petal Length │   Petal Width │\n",
      "╞════════════════════╪════════════════╪═══════════════╪════════════════╪═══════════════╡\n",
      "│ Mean               │ 5.006          │      3.418    │       1.464    │      0.244    │\n",
      "├────────────────────┼────────────────┼───────────────┼────────────────┼───────────────┤\n",
      "│ Median             │ 5.0            │      3.4      │       1.5      │      0.2      │\n",
      "├────────────────────┼────────────────┼───────────────┼────────────────┼───────────────┤\n",
      "│ Mode               │ 5.0,5.1        │      3.4      │       1.5      │      0.2      │\n",
      "├────────────────────┼────────────────┼───────────────┼────────────────┼───────────────┤\n",
      "│ Variance           │ 0.121764       │      0.142276 │       0.029504 │      0.011264 │\n",
      "├────────────────────┼────────────────┼───────────────┼────────────────┼───────────────┤\n",
      "│ Standard Deviation │ 0.348946987378 │      0.377195 │       0.171767 │      0.106132 │\n",
      "╘════════════════════╧════════════════╧═══════════════╧════════════════╧═══════════════╛\n"
     ]
    }
   ],
   "source": [
    "print(tabulate([[\"Mean\",5.006,3.418,1.464,0.244],[\"Median\",5.0,3.4,1.5,0.2],[\"Mode\",\"5.0,5.1\",3.4,1.5,0.2],[\"Variance\",0.121764,0.142276,0.029504,0.011264],[\"Standard Deviation\", 0.348946987378,0.377194909828, 0.171767284429,0.106131993291]], headers=[\" \",\"Sepal length\",\"Sepal Width\",\"Petal Length\",\"Petal Width\"],tablefmt='fancy_grid'))"
   ]
  },
  {
   "cell_type": "markdown",
   "metadata": {},
   "source": [
    "### Table for Iris-versicolor"
   ]
  },
  {
   "cell_type": "code",
   "execution_count": 5,
   "metadata": {},
   "outputs": [
    {
     "name": "stdout",
     "output_type": "stream",
     "text": [
      "╒════════════════════╤════════════════╤═══════════════╤════════════════╤═══════════════╕\n",
      "│                    │ Sepal length   │   Sepal Width │   Petal Length │   Petal Width │\n",
      "╞════════════════════╪════════════════╪═══════════════╪════════════════╪═══════════════╡\n",
      "│ Mean               │ 5.936          │      2.77     │       4.26     │      1.326    │\n",
      "├────────────────────┼────────────────┼───────────────┼────────────────┼───────────────┤\n",
      "│ Median             │ 5.9            │      2.8      │       4.35     │      1.3      │\n",
      "├────────────────────┼────────────────┼───────────────┼────────────────┼───────────────┤\n",
      "│ Mode               │ 5.5,5.6,5.7    │      3        │       4.5      │      1.3      │\n",
      "├────────────────────┼────────────────┼───────────────┼────────────────┼───────────────┤\n",
      "│ Variance           │ 0.261104       │      0.0965   │       0.2164   │      0.038324 │\n",
      "├────────────────────┼────────────────┼───────────────┼────────────────┼───────────────┤\n",
      "│ Standard Deviation │ 0.510983       │      0.310644 │       0.465188 │      0.195765 │\n",
      "╘════════════════════╧════════════════╧═══════════════╧════════════════╧═══════════════╛\n"
     ]
    }
   ],
   "source": [
    "print(tabulate([[\"Mean\",5.936,2.77,4.26,1.326],[\"Median\",5.9,2.8,4.35,1.3],[\"Mode\",\"5.5,5.6,5.7\",3.0,4.5,1.3],[\"Variance\",0.261104,0.0965,0.2164,0.038324],[\"Standard Deviation\",0.510983,0.310644,0.465188,0.195765]], headers=[\" \",\"Sepal length\",\"Sepal Width\",\"Petal Length\",\"Petal Width\"],tablefmt='fancy_grid'))"
   ]
  },
  {
   "cell_type": "markdown",
   "metadata": {},
   "source": [
    "### Table for Iris-virginica "
   ]
  },
  {
   "cell_type": "code",
   "execution_count": 6,
   "metadata": {},
   "outputs": [
    {
     "name": "stdout",
     "output_type": "stream",
     "text": [
      "╒════════════════════╤════════════════╤═══════════════╤════════════════╤═══════════════╕\n",
      "│                    │   Sepal length │   Sepal Width │   Petal Length │   Petal Width │\n",
      "╞════════════════════╪════════════════╪═══════════════╪════════════════╪═══════════════╡\n",
      "│ Mean               │       6.588    │      2.974    │        5.552   │       2.026   │\n",
      "├────────────────────┼────────────────┼───────────────┼────────────────┼───────────────┤\n",
      "│ Median             │       6.5      │      3        │        5.55    │       2       │\n",
      "├────────────────────┼────────────────┼───────────────┼────────────────┼───────────────┤\n",
      "│ Mode               │       6.3      │      3        │        5.1     │       1.8     │\n",
      "├────────────────────┼────────────────┼───────────────┼────────────────┼───────────────┤\n",
      "│ Variance           │       0.396256 │      0.101924 │        0.2985  │       0.07392 │\n",
      "├────────────────────┼────────────────┼───────────────┼────────────────┼───────────────┤\n",
      "│ Standard Deviation │       0.629488 │      0.319255 │        0.54635 │       0.27189 │\n",
      "╘════════════════════╧════════════════╧═══════════════╧════════════════╧═══════════════╛\n"
     ]
    }
   ],
   "source": [
    "print(tabulate([[\"Mean\",6.588,2.974,5.552,2.026],[\"Median\",6.5,3.0,5.55,2.0],[\"Mode\",6.3,3.0,5.1,1.8],[\"Variance\",0.396256,0.101924,0.2985,0.07392],[\"Standard Deviation\",0.629488,0.319255,0.54635,0.2718896]], headers=[\" \",\"Sepal length\",\"Sepal Width\",\"Petal Length\",\"Petal Width\"],tablefmt='fancy_grid'))"
   ]
  },
  {
   "cell_type": "markdown",
   "metadata": {},
   "source": [
    "## Analysis of the relation between the four properties and the type of flower\n",
    "\n",
    "From the above analysis and visualizations, we find that there is an appreciable relation of the four parameters with the type of flower formed. The mean and the median of are very close to each other for all the parameters and categories of flowers. Hence the data provided is symmetric. The variance and standard deviation of the all the parameters are in the range (0.05-0.40) and range(0.2-0.5), which means that the spread of the data is less. Thus, all the factors of measurement - mean, median, mode, variance and standard deviation indicates the accuracy of the result and the relation of flower properties with the type of flower is fixed. \n",
    "\n",
    "In general, we can assume the following properties for each type of flower : \n",
    "\n",
    "#### Iris-setosa\n",
    "Sepal Length = 4.8-5.3 cm | | \n",
    "Sepal Width = 3-3.8 cm | | \n",
    "Petal Length = 1.2-1.6 cm | |\n",
    "Petal Width = 0.1-0.3 cm\n",
    "\n",
    "\n",
    "#### Iris-versicolor\n",
    "Sepal Length = 5.1-6.1 cm | | \n",
    "Sepal Width = 2.6-3.2 cm | |\n",
    "Petal Length = 4-4.8 cm | |\n",
    "Petal Width = 1.1-1.5 cm\n",
    "\n",
    "#### Iris-virginica\n",
    "Sepal Length = 5.9-7.1 cm | |\n",
    "Sepal Width = 2.7-3.3 cm | |\n",
    "Petal Length = 5-6 cm | |\n",
    "Petal Width = 1.7-2.3 cm"
   ]
  },
  {
   "cell_type": "markdown",
   "metadata": {},
   "source": [
    "# Declaration\n",
    "\n",
    "The above study is the author's original work. All sources has been mentioned, where necessary.\n",
    "\n",
    "#### Arnab Deka\n",
    " \n",
    "(arnabdeka6@gmail.com)"
   ]
  }
 ],
 "metadata": {
  "kernelspec": {
   "display_name": "Python 3",
   "language": "python",
   "name": "python3"
  },
  "language_info": {
   "codemirror_mode": {
    "name": "ipython",
    "version": 3
   },
   "file_extension": ".py",
   "mimetype": "text/x-python",
   "name": "python",
   "nbconvert_exporter": "python",
   "pygments_lexer": "ipython3",
   "version": "3.4.4"
  }
 },
 "nbformat": 4,
 "nbformat_minor": 2
}
